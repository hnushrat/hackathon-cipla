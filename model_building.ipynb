{
 "cells": [
  {
   "cell_type": "code",
   "execution_count": 1,
   "metadata": {},
   "outputs": [],
   "source": [
    "import pandas as pd\n",
    "import numpy as np"
   ]
  },
  {
   "cell_type": "code",
   "execution_count": 57,
   "metadata": {},
   "outputs": [],
   "source": [
    "df=pd.read_csv('train_prep.csv')"
   ]
  },
  {
   "cell_type": "code",
   "execution_count": 93,
   "metadata": {},
   "outputs": [],
   "source": [
    "features=df.drop('Loan Sanction Amount (USD)',axis=1)\n",
    "label=df['Loan Sanction Amount (USD)']\n",
    "from sklearn.model_selection import train_test_split\n",
    "from sklearn.preprocessing import RobustScaler,MinMaxScaler,StandardScaler\n",
    "xtrain,xtest,ytrain,ytest=train_test_split(features,label,random_state=42,test_size=0.33)"
   ]
  },
  {
   "cell_type": "code",
   "execution_count": 94,
   "metadata": {},
   "outputs": [],
   "source": [
    "sc=RobustScaler()\n",
    "xtrain=sc.fit_transform(xtrain)\n",
    "xtest=sc.transform(xtest)"
   ]
  },
  {
   "cell_type": "code",
   "execution_count": 98,
   "metadata": {},
   "outputs": [
    {
     "data": {
      "text/plain": [
       "RandomizedSearchCV(estimator=RandomForestRegressor(),\n",
       "                   param_distributions=[{'max_depth': array([10, 15, 20, 25, 30, 35]),\n",
       "                                         'max_features': ['log2', 'sqrt',\n",
       "                                                          'auto'],\n",
       "                                         'n_estimators': array([ 70,  80,  90, 100, 110, 120, 130, 140])},\n",
       "                                        {'max_depth': [None],\n",
       "                                         'max_features': ['log2', 'sqrt',\n",
       "                                                          'auto'],\n",
       "                                         'n_estimators': array([ 70,  80,  90, 100, 110, 120, 130, 140])}],\n",
       "                   return_train_score=True, scoring='r2')"
      ]
     },
     "execution_count": 98,
     "metadata": {},
     "output_type": "execute_result"
    }
   ],
   "source": [
    "from sklearn.ensemble import GradientBoostingRegressor,RandomForestRegressor\n",
    "from sklearn.model_selection import RandomizedSearchCV\n",
    "param=[{'n_estimators':np.arange(70,150,10),'max_features':['log2','sqrt','auto'],'max_depth':np.arange(10,40,5)},\n",
    "        {'n_estimators':np.arange(70,150,10),'max_features':['log2','sqrt','auto'],'max_depth':[None]}]\n",
    "rcv=RandomizedSearchCV(estimator=RandomForestRegressor(),param_distributions=param,return_train_score=True,scoring='r2')\n",
    "rcv.fit(xtrain,ytrain)"
   ]
  },
  {
   "cell_type": "code",
   "execution_count": 99,
   "metadata": {},
   "outputs": [
    {
     "data": {
      "text/plain": [
       "{'n_estimators': 90, 'max_features': 'auto', 'max_depth': 35}"
      ]
     },
     "execution_count": 99,
     "metadata": {},
     "output_type": "execute_result"
    }
   ],
   "source": [
    "rcv.best_params_"
   ]
  },
  {
   "cell_type": "code",
   "execution_count": 100,
   "metadata": {},
   "outputs": [
    {
     "data": {
      "text/plain": [
       "RandomForestRegressor(max_depth=35, n_estimators=90)"
      ]
     },
     "execution_count": 100,
     "metadata": {},
     "output_type": "execute_result"
    }
   ],
   "source": [
    "rf=RandomForestRegressor(n_estimators=90,max_features='auto',max_depth=35)\n",
    "rf.fit(xtrain,ytrain)"
   ]
  },
  {
   "cell_type": "code",
   "execution_count": 101,
   "metadata": {},
   "outputs": [],
   "source": [
    "pred=rf.predict(xtest)"
   ]
  },
  {
   "cell_type": "code",
   "execution_count": 102,
   "metadata": {},
   "outputs": [
    {
     "name": "stdout",
     "output_type": "stream",
     "text": [
      "0.7336096572713395\n"
     ]
    }
   ],
   "source": [
    "from sklearn.metrics import r2_score\n",
    "print(r2_score(ytest,pred))"
   ]
  },
  {
   "cell_type": "code",
   "execution_count": 104,
   "metadata": {},
   "outputs": [
    {
     "data": {
      "text/plain": [
       "RandomForestRegressor(max_depth=35, n_estimators=90)"
      ]
     },
     "execution_count": 104,
     "metadata": {},
     "output_type": "execute_result"
    }
   ],
   "source": [
    "train=df.drop('Loan Sanction Amount (USD)',axis=1)\n",
    "label=df['Loan Sanction Amount (USD)']\n",
    "sc=RobustScaler()\n",
    "train=sc.fit_transform(train)\n",
    "rf=RandomForestRegressor(n_estimators=90,max_features='auto',max_depth=35) # yielded r2 of 81.10054 --> RandomForest\n",
    "rf.fit(train,label)"
   ]
  },
  {
   "cell_type": "code",
   "execution_count": 105,
   "metadata": {},
   "outputs": [],
   "source": [
    "# test---\n",
    "test=pd.read_csv('test_prep.csv')\n",
    "test=test[df.columns[:-1]]"
   ]
  },
  {
   "cell_type": "code",
   "execution_count": 106,
   "metadata": {},
   "outputs": [],
   "source": [
    "test=sc.transform(test)"
   ]
  },
  {
   "cell_type": "code",
   "execution_count": 107,
   "metadata": {},
   "outputs": [],
   "source": [
    "pred=rf.predict(test)"
   ]
  },
  {
   "cell_type": "code",
   "execution_count": 108,
   "metadata": {},
   "outputs": [
    {
     "data": {
      "text/html": [
       "<div>\n",
       "<style scoped>\n",
       "    .dataframe tbody tr th:only-of-type {\n",
       "        vertical-align: middle;\n",
       "    }\n",
       "\n",
       "    .dataframe tbody tr th {\n",
       "        vertical-align: top;\n",
       "    }\n",
       "\n",
       "    .dataframe thead th {\n",
       "        text-align: right;\n",
       "    }\n",
       "</style>\n",
       "<table border=\"1\" class=\"dataframe\">\n",
       "  <thead>\n",
       "    <tr style=\"text-align: right;\">\n",
       "      <th></th>\n",
       "      <th>Customer ID</th>\n",
       "      <th>Loan Sanction Amount (USD)</th>\n",
       "    </tr>\n",
       "  </thead>\n",
       "  <tbody>\n",
       "    <tr>\n",
       "      <th>0</th>\n",
       "      <td>C-26247</td>\n",
       "      <td>78221.727000</td>\n",
       "    </tr>\n",
       "    <tr>\n",
       "      <th>1</th>\n",
       "      <td>C-35067</td>\n",
       "      <td>62939.832556</td>\n",
       "    </tr>\n",
       "    <tr>\n",
       "      <th>2</th>\n",
       "      <td>C-34590</td>\n",
       "      <td>1342.895889</td>\n",
       "    </tr>\n",
       "    <tr>\n",
       "      <th>3</th>\n",
       "      <td>C-16668</td>\n",
       "      <td>67680.870778</td>\n",
       "    </tr>\n",
       "    <tr>\n",
       "      <th>4</th>\n",
       "      <td>C-12196</td>\n",
       "      <td>65856.688444</td>\n",
       "    </tr>\n",
       "    <tr>\n",
       "      <th>...</th>\n",
       "      <td>...</td>\n",
       "      <td>...</td>\n",
       "    </tr>\n",
       "    <tr>\n",
       "      <th>19995</th>\n",
       "      <td>C-9076</td>\n",
       "      <td>63357.806111</td>\n",
       "    </tr>\n",
       "    <tr>\n",
       "      <th>19996</th>\n",
       "      <td>C-17587</td>\n",
       "      <td>29480.950618</td>\n",
       "    </tr>\n",
       "    <tr>\n",
       "      <th>19997</th>\n",
       "      <td>C-46479</td>\n",
       "      <td>0.000000</td>\n",
       "    </tr>\n",
       "    <tr>\n",
       "      <th>19998</th>\n",
       "      <td>C-3099</td>\n",
       "      <td>72601.013667</td>\n",
       "    </tr>\n",
       "    <tr>\n",
       "      <th>19999</th>\n",
       "      <td>C-43482</td>\n",
       "      <td>93675.245222</td>\n",
       "    </tr>\n",
       "  </tbody>\n",
       "</table>\n",
       "<p>20000 rows × 2 columns</p>\n",
       "</div>"
      ],
      "text/plain": [
       "      Customer ID  Loan Sanction Amount (USD)\n",
       "0         C-26247                78221.727000\n",
       "1         C-35067                62939.832556\n",
       "2         C-34590                 1342.895889\n",
       "3         C-16668                67680.870778\n",
       "4         C-12196                65856.688444\n",
       "...           ...                         ...\n",
       "19995      C-9076                63357.806111\n",
       "19996     C-17587                29480.950618\n",
       "19997     C-46479                    0.000000\n",
       "19998      C-3099                72601.013667\n",
       "19999     C-43482                93675.245222\n",
       "\n",
       "[20000 rows x 2 columns]"
      ]
     },
     "execution_count": 108,
     "metadata": {},
     "output_type": "execute_result"
    }
   ],
   "source": [
    "submit=pd.read_csv('test.csv')\n",
    "\n",
    "submit=submit['Customer ID']\n",
    "submit=pd.DataFrame(submit)\n",
    "\n",
    "submit['Loan Sanction Amount (USD)']=pred\n",
    "\n",
    "submit"
   ]
  },
  {
   "cell_type": "code",
   "execution_count": 109,
   "metadata": {},
   "outputs": [],
   "source": [
    "submit.to_csv('submit2.csv',index=False)"
   ]
  },
  {
   "cell_type": "code",
   "execution_count": null,
   "metadata": {},
   "outputs": [],
   "source": []
  }
 ],
 "metadata": {
  "kernelspec": {
   "display_name": "Python 3",
   "language": "python",
   "name": "python3"
  },
  "language_info": {
   "codemirror_mode": {
    "name": "ipython",
    "version": 3
   },
   "file_extension": ".py",
   "mimetype": "text/x-python",
   "name": "python",
   "nbconvert_exporter": "python",
   "pygments_lexer": "ipython3",
   "version": "3.8.5"
  }
 },
 "nbformat": 4,
 "nbformat_minor": 4
}
