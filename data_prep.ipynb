{
 "cells": [
  {
   "cell_type": "code",
   "execution_count": 1,
   "metadata": {},
   "outputs": [],
   "source": [
    "import pandas as pd\n",
    "import numpy as np\n",
    "import seaborn as sns"
   ]
  },
  {
   "cell_type": "code",
   "execution_count": 2,
   "metadata": {},
   "outputs": [],
   "source": [
    "train=pd.read_csv('train.csv')"
   ]
  },
  {
   "cell_type": "code",
   "execution_count": 3,
   "metadata": {},
   "outputs": [
    {
     "name": "stdout",
     "output_type": "stream",
     "text": [
      "<class 'pandas.core.frame.DataFrame'>\n",
      "RangeIndex: 30000 entries, 0 to 29999\n",
      "Data columns (total 24 columns):\n",
      " #   Column                       Non-Null Count  Dtype  \n",
      "---  ------                       --------------  -----  \n",
      " 0   Customer ID                  30000 non-null  object \n",
      " 1   Name                         30000 non-null  object \n",
      " 2   Gender                       29947 non-null  object \n",
      " 3   Age                          30000 non-null  int64  \n",
      " 4   Income (USD)                 25424 non-null  float64\n",
      " 5   Income Stability             28317 non-null  object \n",
      " 6   Profession                   30000 non-null  object \n",
      " 7   Type of Employment           22730 non-null  object \n",
      " 8   Location                     30000 non-null  object \n",
      " 9   Loan Amount Request (USD)    30000 non-null  float64\n",
      " 10  Current Loan Expenses (USD)  29828 non-null  float64\n",
      " 11  Expense Type 1               30000 non-null  object \n",
      " 12  Expense Type 2               30000 non-null  object \n",
      " 13  Dependents                   27507 non-null  float64\n",
      " 14  Credit Score                 28297 non-null  float64\n",
      " 15  No. of Defaults              30000 non-null  int64  \n",
      " 16  Has Active Credit Card       28434 non-null  object \n",
      " 17  Property ID                  30000 non-null  int64  \n",
      " 18  Property Age                 25150 non-null  float64\n",
      " 19  Property Type                30000 non-null  int64  \n",
      " 20  Property Location            29644 non-null  object \n",
      " 21  Co-Applicant                 30000 non-null  int64  \n",
      " 22  Property Price               30000 non-null  float64\n",
      " 23  Loan Sanction Amount (USD)   29660 non-null  float64\n",
      "dtypes: float64(8), int64(5), object(11)\n",
      "memory usage: 5.5+ MB\n"
     ]
    }
   ],
   "source": [
    "train.info() # metrics 'r2_score'"
   ]
  },
  {
   "cell_type": "code",
   "execution_count": 4,
   "metadata": {},
   "outputs": [
    {
     "data": {
      "text/plain": [
       "Customer ID                       0\n",
       "Name                              0\n",
       "Gender                           53\n",
       "Age                               0\n",
       "Income (USD)                   4576\n",
       "Income Stability               1683\n",
       "Profession                        0\n",
       "Type of Employment             7270\n",
       "Location                          0\n",
       "Loan Amount Request (USD)         0\n",
       "Current Loan Expenses (USD)     172\n",
       "Expense Type 1                    0\n",
       "Expense Type 2                    0\n",
       "Dependents                     2493\n",
       "Credit Score                   1703\n",
       "No. of Defaults                   0\n",
       "Has Active Credit Card         1566\n",
       "Property ID                       0\n",
       "Property Age                   4850\n",
       "Property Type                     0\n",
       "Property Location               356\n",
       "Co-Applicant                      0\n",
       "Property Price                    0\n",
       "Loan Sanction Amount (USD)      340\n",
       "dtype: int64"
      ]
     },
     "execution_count": 4,
     "metadata": {},
     "output_type": "execute_result"
    }
   ],
   "source": [
    "train.isna().sum()"
   ]
  },
  {
   "cell_type": "code",
   "execution_count": 5,
   "metadata": {},
   "outputs": [
    {
     "data": {
      "text/html": [
       "<div>\n",
       "<style scoped>\n",
       "    .dataframe tbody tr th:only-of-type {\n",
       "        vertical-align: middle;\n",
       "    }\n",
       "\n",
       "    .dataframe tbody tr th {\n",
       "        vertical-align: top;\n",
       "    }\n",
       "\n",
       "    .dataframe thead th {\n",
       "        text-align: right;\n",
       "    }\n",
       "</style>\n",
       "<table border=\"1\" class=\"dataframe\">\n",
       "  <thead>\n",
       "    <tr style=\"text-align: right;\">\n",
       "      <th></th>\n",
       "      <th>Customer ID</th>\n",
       "      <th>Name</th>\n",
       "      <th>Gender</th>\n",
       "      <th>Age</th>\n",
       "      <th>Income (USD)</th>\n",
       "      <th>Income Stability</th>\n",
       "      <th>Profession</th>\n",
       "      <th>Type of Employment</th>\n",
       "      <th>Location</th>\n",
       "      <th>Loan Amount Request (USD)</th>\n",
       "      <th>...</th>\n",
       "      <th>Credit Score</th>\n",
       "      <th>No. of Defaults</th>\n",
       "      <th>Has Active Credit Card</th>\n",
       "      <th>Property ID</th>\n",
       "      <th>Property Age</th>\n",
       "      <th>Property Type</th>\n",
       "      <th>Property Location</th>\n",
       "      <th>Co-Applicant</th>\n",
       "      <th>Property Price</th>\n",
       "      <th>Loan Sanction Amount (USD)</th>\n",
       "    </tr>\n",
       "  </thead>\n",
       "  <tbody>\n",
       "    <tr>\n",
       "      <th>0</th>\n",
       "      <td>C-36995</td>\n",
       "      <td>Frederica Shealy</td>\n",
       "      <td>F</td>\n",
       "      <td>56</td>\n",
       "      <td>1933.05</td>\n",
       "      <td>Low</td>\n",
       "      <td>Working</td>\n",
       "      <td>Sales staff</td>\n",
       "      <td>Semi-Urban</td>\n",
       "      <td>72809.58</td>\n",
       "      <td>...</td>\n",
       "      <td>809.44</td>\n",
       "      <td>0</td>\n",
       "      <td>NaN</td>\n",
       "      <td>746</td>\n",
       "      <td>1933.05</td>\n",
       "      <td>4</td>\n",
       "      <td>Rural</td>\n",
       "      <td>1</td>\n",
       "      <td>119933.46</td>\n",
       "      <td>54607.18</td>\n",
       "    </tr>\n",
       "    <tr>\n",
       "      <th>1</th>\n",
       "      <td>C-33999</td>\n",
       "      <td>America Calderone</td>\n",
       "      <td>M</td>\n",
       "      <td>32</td>\n",
       "      <td>4952.91</td>\n",
       "      <td>Low</td>\n",
       "      <td>Working</td>\n",
       "      <td>NaN</td>\n",
       "      <td>Semi-Urban</td>\n",
       "      <td>46837.47</td>\n",
       "      <td>...</td>\n",
       "      <td>780.40</td>\n",
       "      <td>0</td>\n",
       "      <td>Unpossessed</td>\n",
       "      <td>608</td>\n",
       "      <td>4952.91</td>\n",
       "      <td>2</td>\n",
       "      <td>Rural</td>\n",
       "      <td>1</td>\n",
       "      <td>54791.00</td>\n",
       "      <td>37469.98</td>\n",
       "    </tr>\n",
       "    <tr>\n",
       "      <th>2</th>\n",
       "      <td>C-3770</td>\n",
       "      <td>Rosetta Verne</td>\n",
       "      <td>F</td>\n",
       "      <td>65</td>\n",
       "      <td>988.19</td>\n",
       "      <td>High</td>\n",
       "      <td>Pensioner</td>\n",
       "      <td>NaN</td>\n",
       "      <td>Semi-Urban</td>\n",
       "      <td>45593.04</td>\n",
       "      <td>...</td>\n",
       "      <td>833.15</td>\n",
       "      <td>0</td>\n",
       "      <td>Unpossessed</td>\n",
       "      <td>546</td>\n",
       "      <td>988.19</td>\n",
       "      <td>2</td>\n",
       "      <td>Urban</td>\n",
       "      <td>0</td>\n",
       "      <td>72440.58</td>\n",
       "      <td>36474.43</td>\n",
       "    </tr>\n",
       "    <tr>\n",
       "      <th>3</th>\n",
       "      <td>C-26480</td>\n",
       "      <td>Zoe Chitty</td>\n",
       "      <td>F</td>\n",
       "      <td>65</td>\n",
       "      <td>NaN</td>\n",
       "      <td>High</td>\n",
       "      <td>Pensioner</td>\n",
       "      <td>NaN</td>\n",
       "      <td>Rural</td>\n",
       "      <td>80057.92</td>\n",
       "      <td>...</td>\n",
       "      <td>832.70</td>\n",
       "      <td>1</td>\n",
       "      <td>Unpossessed</td>\n",
       "      <td>890</td>\n",
       "      <td>NaN</td>\n",
       "      <td>2</td>\n",
       "      <td>Semi-Urban</td>\n",
       "      <td>1</td>\n",
       "      <td>121441.51</td>\n",
       "      <td>56040.54</td>\n",
       "    </tr>\n",
       "    <tr>\n",
       "      <th>4</th>\n",
       "      <td>C-23459</td>\n",
       "      <td>Afton Venema</td>\n",
       "      <td>F</td>\n",
       "      <td>31</td>\n",
       "      <td>2614.77</td>\n",
       "      <td>Low</td>\n",
       "      <td>Working</td>\n",
       "      <td>High skill tech staff</td>\n",
       "      <td>Semi-Urban</td>\n",
       "      <td>113858.89</td>\n",
       "      <td>...</td>\n",
       "      <td>745.55</td>\n",
       "      <td>1</td>\n",
       "      <td>Active</td>\n",
       "      <td>715</td>\n",
       "      <td>2614.77</td>\n",
       "      <td>4</td>\n",
       "      <td>Semi-Urban</td>\n",
       "      <td>1</td>\n",
       "      <td>208567.91</td>\n",
       "      <td>74008.28</td>\n",
       "    </tr>\n",
       "    <tr>\n",
       "      <th>5</th>\n",
       "      <td>C-17688</td>\n",
       "      <td>Polly Crumpler</td>\n",
       "      <td>F</td>\n",
       "      <td>60</td>\n",
       "      <td>1234.92</td>\n",
       "      <td>Low</td>\n",
       "      <td>State servant</td>\n",
       "      <td>Secretaries</td>\n",
       "      <td>Rural</td>\n",
       "      <td>34434.72</td>\n",
       "      <td>...</td>\n",
       "      <td>684.12</td>\n",
       "      <td>1</td>\n",
       "      <td>Inactive</td>\n",
       "      <td>491</td>\n",
       "      <td>1234.92</td>\n",
       "      <td>2</td>\n",
       "      <td>Rural</td>\n",
       "      <td>1</td>\n",
       "      <td>43146.82</td>\n",
       "      <td>22382.57</td>\n",
       "    </tr>\n",
       "    <tr>\n",
       "      <th>6</th>\n",
       "      <td>C-23855</td>\n",
       "      <td>Nathalie Olivier</td>\n",
       "      <td>M</td>\n",
       "      <td>43</td>\n",
       "      <td>2361.56</td>\n",
       "      <td>Low</td>\n",
       "      <td>Working</td>\n",
       "      <td>Laborers</td>\n",
       "      <td>Semi-Urban</td>\n",
       "      <td>152561.34</td>\n",
       "      <td>...</td>\n",
       "      <td>637.29</td>\n",
       "      <td>0</td>\n",
       "      <td>Unpossessed</td>\n",
       "      <td>227</td>\n",
       "      <td>2361.56</td>\n",
       "      <td>1</td>\n",
       "      <td>Semi-Urban</td>\n",
       "      <td>1</td>\n",
       "      <td>221050.80</td>\n",
       "      <td>0.00</td>\n",
       "    </tr>\n",
       "    <tr>\n",
       "      <th>7</th>\n",
       "      <td>C-11006</td>\n",
       "      <td>Clarinda Montana</td>\n",
       "      <td>F</td>\n",
       "      <td>45</td>\n",
       "      <td>NaN</td>\n",
       "      <td>Low</td>\n",
       "      <td>State servant</td>\n",
       "      <td>Managers</td>\n",
       "      <td>Semi-Urban</td>\n",
       "      <td>240311.77</td>\n",
       "      <td>...</td>\n",
       "      <td>812.26</td>\n",
       "      <td>0</td>\n",
       "      <td>Active</td>\n",
       "      <td>314</td>\n",
       "      <td>NaN</td>\n",
       "      <td>2</td>\n",
       "      <td>Urban</td>\n",
       "      <td>1</td>\n",
       "      <td>401040.70</td>\n",
       "      <td>168218.24</td>\n",
       "    </tr>\n",
       "    <tr>\n",
       "      <th>8</th>\n",
       "      <td>C-26934</td>\n",
       "      <td>Kenny Ankrom</td>\n",
       "      <td>F</td>\n",
       "      <td>38</td>\n",
       "      <td>1296.07</td>\n",
       "      <td>Low</td>\n",
       "      <td>Working</td>\n",
       "      <td>Cooking staff</td>\n",
       "      <td>Rural</td>\n",
       "      <td>35141.99</td>\n",
       "      <td>...</td>\n",
       "      <td>705.29</td>\n",
       "      <td>1</td>\n",
       "      <td>Active</td>\n",
       "      <td>241</td>\n",
       "      <td>1296.07</td>\n",
       "      <td>4</td>\n",
       "      <td>Rural</td>\n",
       "      <td>1</td>\n",
       "      <td>54903.44</td>\n",
       "      <td>22842.29</td>\n",
       "    </tr>\n",
       "    <tr>\n",
       "      <th>9</th>\n",
       "      <td>C-24944</td>\n",
       "      <td>Barbie Goetsch</td>\n",
       "      <td>M</td>\n",
       "      <td>18</td>\n",
       "      <td>1546.17</td>\n",
       "      <td>Low</td>\n",
       "      <td>Working</td>\n",
       "      <td>Laborers</td>\n",
       "      <td>Rural</td>\n",
       "      <td>42091.29</td>\n",
       "      <td>...</td>\n",
       "      <td>613.24</td>\n",
       "      <td>0</td>\n",
       "      <td>Unpossessed</td>\n",
       "      <td>883</td>\n",
       "      <td>1546.17</td>\n",
       "      <td>2</td>\n",
       "      <td>Urban</td>\n",
       "      <td>1</td>\n",
       "      <td>67993.43</td>\n",
       "      <td>0.00</td>\n",
       "    </tr>\n",
       "  </tbody>\n",
       "</table>\n",
       "<p>10 rows × 24 columns</p>\n",
       "</div>"
      ],
      "text/plain": [
       "  Customer ID               Name Gender  Age  Income (USD) Income Stability  \\\n",
       "0     C-36995   Frederica Shealy      F   56       1933.05              Low   \n",
       "1     C-33999  America Calderone      M   32       4952.91              Low   \n",
       "2      C-3770      Rosetta Verne      F   65        988.19             High   \n",
       "3     C-26480         Zoe Chitty      F   65           NaN             High   \n",
       "4     C-23459       Afton Venema      F   31       2614.77              Low   \n",
       "5     C-17688     Polly Crumpler      F   60       1234.92              Low   \n",
       "6     C-23855   Nathalie Olivier      M   43       2361.56              Low   \n",
       "7     C-11006   Clarinda Montana      F   45           NaN              Low   \n",
       "8     C-26934       Kenny Ankrom      F   38       1296.07              Low   \n",
       "9     C-24944     Barbie Goetsch      M   18       1546.17              Low   \n",
       "\n",
       "      Profession     Type of Employment    Location  \\\n",
       "0        Working            Sales staff  Semi-Urban   \n",
       "1        Working                    NaN  Semi-Urban   \n",
       "2      Pensioner                    NaN  Semi-Urban   \n",
       "3      Pensioner                    NaN       Rural   \n",
       "4        Working  High skill tech staff  Semi-Urban   \n",
       "5  State servant            Secretaries       Rural   \n",
       "6        Working               Laborers  Semi-Urban   \n",
       "7  State servant               Managers  Semi-Urban   \n",
       "8        Working          Cooking staff       Rural   \n",
       "9        Working               Laborers       Rural   \n",
       "\n",
       "   Loan Amount Request (USD)  ...  Credit Score No. of Defaults  \\\n",
       "0                   72809.58  ...        809.44               0   \n",
       "1                   46837.47  ...        780.40               0   \n",
       "2                   45593.04  ...        833.15               0   \n",
       "3                   80057.92  ...        832.70               1   \n",
       "4                  113858.89  ...        745.55               1   \n",
       "5                   34434.72  ...        684.12               1   \n",
       "6                  152561.34  ...        637.29               0   \n",
       "7                  240311.77  ...        812.26               0   \n",
       "8                   35141.99  ...        705.29               1   \n",
       "9                   42091.29  ...        613.24               0   \n",
       "\n",
       "  Has Active Credit Card  Property ID  Property Age  Property Type  \\\n",
       "0                    NaN          746       1933.05              4   \n",
       "1            Unpossessed          608       4952.91              2   \n",
       "2            Unpossessed          546        988.19              2   \n",
       "3            Unpossessed          890           NaN              2   \n",
       "4                 Active          715       2614.77              4   \n",
       "5               Inactive          491       1234.92              2   \n",
       "6            Unpossessed          227       2361.56              1   \n",
       "7                 Active          314           NaN              2   \n",
       "8                 Active          241       1296.07              4   \n",
       "9            Unpossessed          883       1546.17              2   \n",
       "\n",
       "  Property Location  Co-Applicant  Property Price  Loan Sanction Amount (USD)  \n",
       "0             Rural             1       119933.46                    54607.18  \n",
       "1             Rural             1        54791.00                    37469.98  \n",
       "2             Urban             0        72440.58                    36474.43  \n",
       "3        Semi-Urban             1       121441.51                    56040.54  \n",
       "4        Semi-Urban             1       208567.91                    74008.28  \n",
       "5             Rural             1        43146.82                    22382.57  \n",
       "6        Semi-Urban             1       221050.80                        0.00  \n",
       "7             Urban             1       401040.70                   168218.24  \n",
       "8             Rural             1        54903.44                    22842.29  \n",
       "9             Urban             1        67993.43                        0.00  \n",
       "\n",
       "[10 rows x 24 columns]"
      ]
     },
     "execution_count": 5,
     "metadata": {},
     "output_type": "execute_result"
    }
   ],
   "source": [
    "train.head(10)"
   ]
  },
  {
   "cell_type": "code",
   "execution_count": 6,
   "metadata": {},
   "outputs": [],
   "source": [
    "#income usd and property age are same---- drop either"
   ]
  },
  {
   "cell_type": "code",
   "execution_count": 7,
   "metadata": {},
   "outputs": [
    {
     "data": {
      "text/plain": [
       "Low     25751\n",
       "High     2566\n",
       "NaN      1683\n",
       "Name: Income Stability, dtype: int64"
      ]
     },
     "execution_count": 7,
     "metadata": {},
     "output_type": "execute_result"
    }
   ],
   "source": [
    "pd.value_counts(train['Income Stability'],dropna=False)"
   ]
  },
  {
   "cell_type": "code",
   "execution_count": 8,
   "metadata": {},
   "outputs": [],
   "source": [
    "train['Income Stability']=train['Income Stability'].fillna(train['Income Stability'].mode()[0]) #filled with mode--"
   ]
  },
  {
   "cell_type": "code",
   "execution_count": 9,
   "metadata": {},
   "outputs": [],
   "source": [
    "# type of employment drop--"
   ]
  },
  {
   "cell_type": "code",
   "execution_count": 10,
   "metadata": {},
   "outputs": [
    {
     "name": "stderr",
     "output_type": "stream",
     "text": [
      "C:\\Users\\hnush\\anaconda3\\lib\\site-packages\\seaborn\\distributions.py:2551: FutureWarning: `distplot` is a deprecated function and will be removed in a future version. Please adapt your code to use either `displot` (a figure-level function with similar flexibility) or `histplot` (an axes-level function for histograms).\n",
      "  warnings.warn(msg, FutureWarning)\n"
     ]
    },
    {
     "data": {
      "text/plain": [
       "<AxesSubplot:xlabel='Current Loan Expenses (USD)', ylabel='Density'>"
      ]
     },
     "execution_count": 10,
     "metadata": {},
     "output_type": "execute_result"
    },
    {
     "data": {
      "image/png": "[encoded data removed]",
      "text/plain": [
       "<Figure size 432x288 with 1 Axes>"
      ]
     },
     "metadata": {
      "needs_background": "light"
     },
     "output_type": "display_data"
    }
   ],
   "source": [
    "sns.distplot(train['Current Loan Expenses (USD)'])"
   ]
  },
  {
   "cell_type": "code",
   "execution_count": 11,
   "metadata": {},
   "outputs": [
    {
     "name": "stderr",
     "output_type": "stream",
     "text": [
      "C:\\Users\\hnush\\anaconda3\\lib\\site-packages\\seaborn\\_decorators.py:36: FutureWarning: Pass the following variable as a keyword arg: x. From version 0.12, the only valid positional argument will be `data`, and passing other arguments without an explicit keyword will result in an error or misinterpretation.\n",
      "  warnings.warn(\n"
     ]
    },
    {
     "data": {
      "text/plain": [
       "<AxesSubplot:xlabel='Current Loan Expenses (USD)'>"
      ]
     },
     "execution_count": 11,
     "metadata": {},
     "output_type": "execute_result"
    },
    {
     "data": {
      "image/png": "[encoded data removed]",
      "text/plain": [
       "<Figure size 432x288 with 1 Axes>"
      ]
     },
     "metadata": {
      "needs_background": "light"
     },
     "output_type": "display_data"
    }
   ],
   "source": [
    "sns.boxplot(train['Current Loan Expenses (USD)'])"
   ]
  },
  {
   "cell_type": "code",
   "execution_count": 12,
   "metadata": {},
   "outputs": [
    {
     "name": "stderr",
     "output_type": "stream",
     "text": [
      "<ipython-input-12-680ec3a5df54>:1: SettingWithCopyWarning: \n",
      "A value is trying to be set on a copy of a slice from a DataFrame\n",
      "\n",
      "See the caveats in the documentation: https://pandas.pydata.org/pandas-docs/stable/user_guide/indexing.html#returning-a-view-versus-a-copy\n",
      "  train['Current Loan Expenses (USD)'][train['Current Loan Expenses (USD)']<0]=np.nan\n"
     ]
    }
   ],
   "source": [
    "train['Current Loan Expenses (USD)'][train['Current Loan Expenses (USD)']<0]=np.nan\n",
    "train['Current Loan Expenses (USD)']=train['Current Loan Expenses (USD)'].fillna(train['Current Loan Expenses (USD)'].median())"
   ]
  },
  {
   "cell_type": "code",
   "execution_count": 13,
   "metadata": {},
   "outputs": [
    {
     "data": {
      "text/plain": [
       "2.0     13108\n",
       "3.0      5719\n",
       "1.0      5544\n",
       "4.0      2704\n",
       "NaN      2493\n",
       "5.0       372\n",
       "6.0        50\n",
       "7.0         7\n",
       "14.0        1\n",
       "10.0        1\n",
       "8.0         1\n",
       "Name: Dependents, dtype: int64"
      ]
     },
     "execution_count": 13,
     "metadata": {},
     "output_type": "execute_result"
    }
   ],
   "source": [
    "pd.value_counts(train['Dependents'],dropna=False)"
   ]
  },
  {
   "cell_type": "code",
   "execution_count": 14,
   "metadata": {},
   "outputs": [],
   "source": [
    "train['Dependents']=train['Dependents'].fillna(train['Dependents'].mode()[0])"
   ]
  },
  {
   "cell_type": "code",
   "execution_count": 15,
   "metadata": {},
   "outputs": [
    {
     "name": "stderr",
     "output_type": "stream",
     "text": [
      "C:\\Users\\hnush\\anaconda3\\lib\\site-packages\\seaborn\\distributions.py:2551: FutureWarning: `distplot` is a deprecated function and will be removed in a future version. Please adapt your code to use either `displot` (a figure-level function with similar flexibility) or `histplot` (an axes-level function for histograms).\n",
      "  warnings.warn(msg, FutureWarning)\n"
     ]
    },
    {
     "data": {
      "text/plain": [
       "<AxesSubplot:xlabel='Credit Score', ylabel='Density'>"
      ]
     },
     "execution_count": 15,
     "metadata": {},
     "output_type": "execute_result"
    },
    {
     "data": {
      "image/png": "[encoded data removed]",
      "text/plain": [
       "<Figure size 432x288 with 1 Axes>"
      ]
     },
     "metadata": {
      "needs_background": "light"
     },
     "output_type": "display_data"
    }
   ],
   "source": [
    "sns.distplot(train['Credit Score'])"
   ]
  },
  {
   "cell_type": "code",
   "execution_count": 16,
   "metadata": {},
   "outputs": [],
   "source": [
    "train['Credit Score']=train['Credit Score'].fillna(train['Credit Score'].mean())"
   ]
  },
  {
   "cell_type": "code",
   "execution_count": 17,
   "metadata": {},
   "outputs": [
    {
     "data": {
      "text/plain": [
       "Active         9771\n",
       "Inactive       9466\n",
       "Unpossessed    9197\n",
       "NaN            1566\n",
       "Name: Has Active Credit Card, dtype: int64"
      ]
     },
     "execution_count": 17,
     "metadata": {},
     "output_type": "execute_result"
    }
   ],
   "source": [
    "pd.value_counts(train['Has Active Credit Card'],dropna=False)"
   ]
  },
  {
   "cell_type": "code",
   "execution_count": 18,
   "metadata": {},
   "outputs": [],
   "source": [
    "train['Has Active Credit Card']=train['Has Active Credit Card'].fillna(method='ffill')"
   ]
  },
  {
   "cell_type": "code",
   "execution_count": 19,
   "metadata": {},
   "outputs": [
    {
     "data": {
      "text/plain": [
       "Active         10305\n",
       "Inactive       10002\n",
       "Unpossessed     9692\n",
       "NaN                1\n",
       "Name: Has Active Credit Card, dtype: int64"
      ]
     },
     "execution_count": 19,
     "metadata": {},
     "output_type": "execute_result"
    }
   ],
   "source": [
    "pd.value_counts(train['Has Active Credit Card'],dropna=False)"
   ]
  },
  {
   "cell_type": "code",
   "execution_count": 20,
   "metadata": {},
   "outputs": [],
   "source": [
    "train['Has Active Credit Card']=train['Has Active Credit Card'].fillna(method='bfill')"
   ]
  },
  {
   "cell_type": "code",
   "execution_count": 21,
   "metadata": {},
   "outputs": [
    {
     "data": {
      "text/plain": [
       "Semi-Urban    10387\n",
       "Rural         10041\n",
       "Urban          9216\n",
       "NaN             356\n",
       "Name: Property Location, dtype: int64"
      ]
     },
     "execution_count": 21,
     "metadata": {},
     "output_type": "execute_result"
    }
   ],
   "source": [
    "pd.value_counts(train['Property Location'],dropna=False)"
   ]
  },
  {
   "cell_type": "code",
   "execution_count": 22,
   "metadata": {},
   "outputs": [],
   "source": [
    "train['Property Location']=train['Property Location'].fillna(train['Property Location'].mode()[0])"
   ]
  },
  {
   "cell_type": "code",
   "execution_count": 23,
   "metadata": {},
   "outputs": [
    {
     "data": {
      "text/plain": [
       " 0.00         7865\n",
       "-999.00        338\n",
       " 28937.45        3\n",
       " 105047.72       2\n",
       " 15270.22        2\n",
       "              ... \n",
       " 66343.58        1\n",
       " 61901.05        1\n",
       " 288477.14       1\n",
       " 35293.26        1\n",
       " 34041.85        1\n",
       "Name: Loan Sanction Amount (USD), Length: 21450, dtype: int64"
      ]
     },
     "execution_count": 23,
     "metadata": {},
     "output_type": "execute_result"
    }
   ],
   "source": [
    "pd.value_counts(train['Loan Sanction Amount (USD)'])"
   ]
  },
  {
   "cell_type": "code",
   "execution_count": 24,
   "metadata": {},
   "outputs": [
    {
     "name": "stderr",
     "output_type": "stream",
     "text": [
      "<ipython-input-24-32c6d7c00d14>:1: SettingWithCopyWarning: \n",
      "A value is trying to be set on a copy of a slice from a DataFrame\n",
      "\n",
      "See the caveats in the documentation: https://pandas.pydata.org/pandas-docs/stable/user_guide/indexing.html#returning-a-view-versus-a-copy\n",
      "  train['Loan Sanction Amount (USD)'][train['Loan Sanction Amount (USD)']<0]=np.nan\n"
     ]
    }
   ],
   "source": [
    "train['Loan Sanction Amount (USD)'][train['Loan Sanction Amount (USD)']<0]=np.nan\n",
    "train['Loan Sanction Amount (USD)']=train['Loan Sanction Amount (USD)'].fillna(method='ffill')"
   ]
  },
  {
   "cell_type": "code",
   "execution_count": 25,
   "metadata": {},
   "outputs": [
    {
     "data": {
      "text/plain": [
       " 1      25516\n",
       " 0       4316\n",
       "-999      168\n",
       "Name: Co-Applicant, dtype: int64"
      ]
     },
     "execution_count": 25,
     "metadata": {},
     "output_type": "execute_result"
    }
   ],
   "source": [
    "pd.value_counts(train['Co-Applicant'])"
   ]
  },
  {
   "cell_type": "code",
   "execution_count": 26,
   "metadata": {},
   "outputs": [
    {
     "name": "stderr",
     "output_type": "stream",
     "text": [
      "<ipython-input-26-42f855498379>:1: SettingWithCopyWarning: \n",
      "A value is trying to be set on a copy of a slice from a DataFrame\n",
      "\n",
      "See the caveats in the documentation: https://pandas.pydata.org/pandas-docs/stable/user_guide/indexing.html#returning-a-view-versus-a-copy\n",
      "  train['Co-Applicant'][train['Co-Applicant']<0]=np.nan\n"
     ]
    }
   ],
   "source": [
    "train['Co-Applicant'][train['Co-Applicant']<0]=np.nan\n",
    "train['Co-Applicant']=train['Co-Applicant'].fillna(train['Co-Applicant'].mode()[0])"
   ]
  },
  {
   "cell_type": "code",
   "execution_count": 27,
   "metadata": {},
   "outputs": [
    {
     "data": {
      "text/plain": [
       "-999.00       352\n",
       " 85907.50       2\n",
       " 51395.67       2\n",
       " 356356.48      2\n",
       " 335541.91      2\n",
       "             ... \n",
       " 264143.95      1\n",
       " 35831.68       1\n",
       " 282237.12      1\n",
       " 108754.71      1\n",
       " 260239.33      1\n",
       "Name: Property Price, Length: 29632, dtype: int64"
      ]
     },
     "execution_count": 27,
     "metadata": {},
     "output_type": "execute_result"
    }
   ],
   "source": [
    "pd.value_counts(train['Property Price'])"
   ]
  },
  {
   "cell_type": "code",
   "execution_count": 28,
   "metadata": {},
   "outputs": [
    {
     "name": "stderr",
     "output_type": "stream",
     "text": [
      "<ipython-input-28-222084c746dc>:1: SettingWithCopyWarning: \n",
      "A value is trying to be set on a copy of a slice from a DataFrame\n",
      "\n",
      "See the caveats in the documentation: https://pandas.pydata.org/pandas-docs/stable/user_guide/indexing.html#returning-a-view-versus-a-copy\n",
      "  train['Property Price'][train['Property Price']<0]=np.nan\n"
     ]
    }
   ],
   "source": [
    "train['Property Price'][train['Property Price']<0]=np.nan"
   ]
  },
  {
   "cell_type": "code",
   "execution_count": 29,
   "metadata": {},
   "outputs": [
    {
     "name": "stderr",
     "output_type": "stream",
     "text": [
      "C:\\Users\\hnush\\anaconda3\\lib\\site-packages\\seaborn\\distributions.py:2551: FutureWarning: `distplot` is a deprecated function and will be removed in a future version. Please adapt your code to use either `displot` (a figure-level function with similar flexibility) or `histplot` (an axes-level function for histograms).\n",
      "  warnings.warn(msg, FutureWarning)\n"
     ]
    },
    {
     "data": {
      "text/plain": [
       "<AxesSubplot:xlabel='Property Price', ylabel='Density'>"
      ]
     },
     "execution_count": 29,
     "metadata": {},
     "output_type": "execute_result"
    },
    {
     "data": {
      "image/png": "[encoded data removed]",
      "text/plain": [
       "<Figure size 432x288 with 1 Axes>"
      ]
     },
     "metadata": {
      "needs_background": "light"
     },
     "output_type": "display_data"
    }
   ],
   "source": [
    "sns.distplot(train['Property Price'])"
   ]
  },
  {
   "cell_type": "code",
   "execution_count": 30,
   "metadata": {},
   "outputs": [],
   "source": [
    "train['Property Price']=train['Property Price'].fillna(train['Property Price'].median())"
   ]
  },
  {
   "cell_type": "code",
   "execution_count": 31,
   "metadata": {},
   "outputs": [],
   "source": [
    "train['Income (USD)']=train['Income (USD)'].fillna(train['Income (USD)'].median())"
   ]
  },
  {
   "cell_type": "code",
   "execution_count": 32,
   "metadata": {},
   "outputs": [
    {
     "data": {
      "text/plain": [
       "Index(['Customer ID', 'Name', 'Gender', 'Age', 'Income (USD)',\n",
       "       'Income Stability', 'Profession', 'Type of Employment', 'Location',\n",
       "       'Loan Amount Request (USD)', 'Current Loan Expenses (USD)',\n",
       "       'Expense Type 1', 'Expense Type 2', 'Dependents', 'Credit Score',\n",
       "       'No. of Defaults', 'Has Active Credit Card', 'Property ID',\n",
       "       'Property Age', 'Property Type', 'Property Location', 'Co-Applicant',\n",
       "       'Property Price', 'Loan Sanction Amount (USD)'],\n",
       "      dtype='object')"
      ]
     },
     "execution_count": 32,
     "metadata": {},
     "output_type": "execute_result"
    }
   ],
   "source": [
    "train.columns"
   ]
  },
  {
   "cell_type": "code",
   "execution_count": 33,
   "metadata": {},
   "outputs": [],
   "source": [
    "train.drop(['Customer ID', 'Name', 'Gender','Property Age', 'Property ID','Type of Employment','Profession'],axis=1,inplace=True)"
   ]
  },
  {
   "cell_type": "code",
   "execution_count": 34,
   "metadata": {},
   "outputs": [
    {
     "data": {
      "text/html": [
       "<div>\n",
       "<style scoped>\n",
       "    .dataframe tbody tr th:only-of-type {\n",
       "        vertical-align: middle;\n",
       "    }\n",
       "\n",
       "    .dataframe tbody tr th {\n",
       "        vertical-align: top;\n",
       "    }\n",
       "\n",
       "    .dataframe thead th {\n",
       "        text-align: right;\n",
       "    }\n",
       "</style>\n",
       "<table border=\"1\" class=\"dataframe\">\n",
       "  <thead>\n",
       "    <tr style=\"text-align: right;\">\n",
       "      <th></th>\n",
       "      <th>Age</th>\n",
       "      <th>Income (USD)</th>\n",
       "      <th>Income Stability</th>\n",
       "      <th>Location</th>\n",
       "      <th>Loan Amount Request (USD)</th>\n",
       "      <th>Current Loan Expenses (USD)</th>\n",
       "      <th>Expense Type 1</th>\n",
       "      <th>Expense Type 2</th>\n",
       "      <th>Dependents</th>\n",
       "      <th>Credit Score</th>\n",
       "      <th>No. of Defaults</th>\n",
       "      <th>Has Active Credit Card</th>\n",
       "      <th>Property Type</th>\n",
       "      <th>Property Location</th>\n",
       "      <th>Co-Applicant</th>\n",
       "      <th>Property Price</th>\n",
       "      <th>Loan Sanction Amount (USD)</th>\n",
       "    </tr>\n",
       "  </thead>\n",
       "  <tbody>\n",
       "    <tr>\n",
       "      <th>0</th>\n",
       "      <td>56</td>\n",
       "      <td>1933.050</td>\n",
       "      <td>Low</td>\n",
       "      <td>Semi-Urban</td>\n",
       "      <td>72809.58</td>\n",
       "      <td>241.08</td>\n",
       "      <td>N</td>\n",
       "      <td>N</td>\n",
       "      <td>3.0</td>\n",
       "      <td>809.44</td>\n",
       "      <td>0</td>\n",
       "      <td>Unpossessed</td>\n",
       "      <td>4</td>\n",
       "      <td>Rural</td>\n",
       "      <td>1.0</td>\n",
       "      <td>119933.46</td>\n",
       "      <td>54607.18</td>\n",
       "    </tr>\n",
       "    <tr>\n",
       "      <th>1</th>\n",
       "      <td>32</td>\n",
       "      <td>4952.910</td>\n",
       "      <td>Low</td>\n",
       "      <td>Semi-Urban</td>\n",
       "      <td>46837.47</td>\n",
       "      <td>495.81</td>\n",
       "      <td>N</td>\n",
       "      <td>Y</td>\n",
       "      <td>1.0</td>\n",
       "      <td>780.40</td>\n",
       "      <td>0</td>\n",
       "      <td>Unpossessed</td>\n",
       "      <td>2</td>\n",
       "      <td>Rural</td>\n",
       "      <td>1.0</td>\n",
       "      <td>54791.00</td>\n",
       "      <td>37469.98</td>\n",
       "    </tr>\n",
       "    <tr>\n",
       "      <th>2</th>\n",
       "      <td>65</td>\n",
       "      <td>988.190</td>\n",
       "      <td>High</td>\n",
       "      <td>Semi-Urban</td>\n",
       "      <td>45593.04</td>\n",
       "      <td>171.95</td>\n",
       "      <td>N</td>\n",
       "      <td>Y</td>\n",
       "      <td>1.0</td>\n",
       "      <td>833.15</td>\n",
       "      <td>0</td>\n",
       "      <td>Unpossessed</td>\n",
       "      <td>2</td>\n",
       "      <td>Urban</td>\n",
       "      <td>0.0</td>\n",
       "      <td>72440.58</td>\n",
       "      <td>36474.43</td>\n",
       "    </tr>\n",
       "    <tr>\n",
       "      <th>3</th>\n",
       "      <td>65</td>\n",
       "      <td>2222.435</td>\n",
       "      <td>High</td>\n",
       "      <td>Rural</td>\n",
       "      <td>80057.92</td>\n",
       "      <td>298.54</td>\n",
       "      <td>N</td>\n",
       "      <td>Y</td>\n",
       "      <td>2.0</td>\n",
       "      <td>832.70</td>\n",
       "      <td>1</td>\n",
       "      <td>Unpossessed</td>\n",
       "      <td>2</td>\n",
       "      <td>Semi-Urban</td>\n",
       "      <td>1.0</td>\n",
       "      <td>121441.51</td>\n",
       "      <td>56040.54</td>\n",
       "    </tr>\n",
       "    <tr>\n",
       "      <th>4</th>\n",
       "      <td>31</td>\n",
       "      <td>2614.770</td>\n",
       "      <td>Low</td>\n",
       "      <td>Semi-Urban</td>\n",
       "      <td>113858.89</td>\n",
       "      <td>491.41</td>\n",
       "      <td>N</td>\n",
       "      <td>Y</td>\n",
       "      <td>2.0</td>\n",
       "      <td>745.55</td>\n",
       "      <td>1</td>\n",
       "      <td>Active</td>\n",
       "      <td>4</td>\n",
       "      <td>Semi-Urban</td>\n",
       "      <td>1.0</td>\n",
       "      <td>208567.91</td>\n",
       "      <td>74008.28</td>\n",
       "    </tr>\n",
       "  </tbody>\n",
       "</table>\n",
       "</div>"
      ],
      "text/plain": [
       "   Age  Income (USD) Income Stability    Location  Loan Amount Request (USD)  \\\n",
       "0   56      1933.050              Low  Semi-Urban                   72809.58   \n",
       "1   32      4952.910              Low  Semi-Urban                   46837.47   \n",
       "2   65       988.190             High  Semi-Urban                   45593.04   \n",
       "3   65      2222.435             High       Rural                   80057.92   \n",
       "4   31      2614.770              Low  Semi-Urban                  113858.89   \n",
       "\n",
       "   Current Loan Expenses (USD) Expense Type 1 Expense Type 2  Dependents  \\\n",
       "0                       241.08              N              N         3.0   \n",
       "1                       495.81              N              Y         1.0   \n",
       "2                       171.95              N              Y         1.0   \n",
       "3                       298.54              N              Y         2.0   \n",
       "4                       491.41              N              Y         2.0   \n",
       "\n",
       "   Credit Score  No. of Defaults Has Active Credit Card  Property Type  \\\n",
       "0        809.44                0            Unpossessed              4   \n",
       "1        780.40                0            Unpossessed              2   \n",
       "2        833.15                0            Unpossessed              2   \n",
       "3        832.70                1            Unpossessed              2   \n",
       "4        745.55                1                 Active              4   \n",
       "\n",
       "  Property Location  Co-Applicant  Property Price  Loan Sanction Amount (USD)  \n",
       "0             Rural           1.0       119933.46                    54607.18  \n",
       "1             Rural           1.0        54791.00                    37469.98  \n",
       "2             Urban           0.0        72440.58                    36474.43  \n",
       "3        Semi-Urban           1.0       121441.51                    56040.54  \n",
       "4        Semi-Urban           1.0       208567.91                    74008.28  "
      ]
     },
     "execution_count": 34,
     "metadata": {},
     "output_type": "execute_result"
    }
   ],
   "source": [
    "train.head()"
   ]
  },
  {
   "cell_type": "code",
   "execution_count": 35,
   "metadata": {},
   "outputs": [
    {
     "data": {
      "text/plain": [
       "(30000, 17)"
      ]
     },
     "execution_count": 35,
     "metadata": {},
     "output_type": "execute_result"
    }
   ],
   "source": [
    "train.shape"
   ]
  },
  {
   "cell_type": "code",
   "execution_count": 36,
   "metadata": {},
   "outputs": [
    {
     "data": {
      "text/plain": [
       "Age                            0\n",
       "Income (USD)                   0\n",
       "Income Stability               0\n",
       "Location                       0\n",
       "Loan Amount Request (USD)      0\n",
       "Current Loan Expenses (USD)    0\n",
       "Expense Type 1                 0\n",
       "Expense Type 2                 0\n",
       "Dependents                     0\n",
       "Credit Score                   0\n",
       "No. of Defaults                0\n",
       "Has Active Credit Card         0\n",
       "Property Type                  0\n",
       "Property Location              0\n",
       "Co-Applicant                   0\n",
       "Property Price                 0\n",
       "Loan Sanction Amount (USD)     0\n",
       "dtype: int64"
      ]
     },
     "execution_count": 36,
     "metadata": {},
     "output_type": "execute_result"
    }
   ],
   "source": [
    "train.isna().sum()"
   ]
  },
  {
   "cell_type": "code",
   "execution_count": 37,
   "metadata": {},
   "outputs": [],
   "source": [
    "test=pd.read_csv('test.csv')"
   ]
  },
  {
   "cell_type": "code",
   "execution_count": 38,
   "metadata": {},
   "outputs": [],
   "source": [
    "test=test[train.columns[:-1]]"
   ]
  },
  {
   "cell_type": "code",
   "execution_count": 39,
   "metadata": {},
   "outputs": [
    {
     "data": {
      "text/html": [
       "<div>\n",
       "<style scoped>\n",
       "    .dataframe tbody tr th:only-of-type {\n",
       "        vertical-align: middle;\n",
       "    }\n",
       "\n",
       "    .dataframe tbody tr th {\n",
       "        vertical-align: top;\n",
       "    }\n",
       "\n",
       "    .dataframe thead th {\n",
       "        text-align: right;\n",
       "    }\n",
       "</style>\n",
       "<table border=\"1\" class=\"dataframe\">\n",
       "  <thead>\n",
       "    <tr style=\"text-align: right;\">\n",
       "      <th></th>\n",
       "      <th>Age</th>\n",
       "      <th>Income (USD)</th>\n",
       "      <th>Income Stability</th>\n",
       "      <th>Location</th>\n",
       "      <th>Loan Amount Request (USD)</th>\n",
       "      <th>Current Loan Expenses (USD)</th>\n",
       "      <th>Expense Type 1</th>\n",
       "      <th>Expense Type 2</th>\n",
       "      <th>Dependents</th>\n",
       "      <th>Credit Score</th>\n",
       "      <th>No. of Defaults</th>\n",
       "      <th>Has Active Credit Card</th>\n",
       "      <th>Property Type</th>\n",
       "      <th>Property Location</th>\n",
       "      <th>Co-Applicant</th>\n",
       "      <th>Property Price</th>\n",
       "    </tr>\n",
       "  </thead>\n",
       "  <tbody>\n",
       "    <tr>\n",
       "      <th>0</th>\n",
       "      <td>47</td>\n",
       "      <td>3472.69</td>\n",
       "      <td>Low</td>\n",
       "      <td>Semi-Urban</td>\n",
       "      <td>137088.98</td>\n",
       "      <td>396.72</td>\n",
       "      <td>N</td>\n",
       "      <td>N</td>\n",
       "      <td>2.0</td>\n",
       "      <td>799.14</td>\n",
       "      <td>0</td>\n",
       "      <td>Unpossessed</td>\n",
       "      <td>2</td>\n",
       "      <td>Urban</td>\n",
       "      <td>1</td>\n",
       "      <td>236644.5</td>\n",
       "    </tr>\n",
       "    <tr>\n",
       "      <th>1</th>\n",
       "      <td>57</td>\n",
       "      <td>1184.84</td>\n",
       "      <td>Low</td>\n",
       "      <td>Rural</td>\n",
       "      <td>104771.59</td>\n",
       "      <td>463.76</td>\n",
       "      <td>Y</td>\n",
       "      <td>Y</td>\n",
       "      <td>2.0</td>\n",
       "      <td>833.31</td>\n",
       "      <td>0</td>\n",
       "      <td>Unpossessed</td>\n",
       "      <td>1</td>\n",
       "      <td>Rural</td>\n",
       "      <td>1</td>\n",
       "      <td>142357.3</td>\n",
       "    </tr>\n",
       "    <tr>\n",
       "      <th>2</th>\n",
       "      <td>52</td>\n",
       "      <td>1266.27</td>\n",
       "      <td>Low</td>\n",
       "      <td>Semi-Urban</td>\n",
       "      <td>176684.91</td>\n",
       "      <td>493.15</td>\n",
       "      <td>N</td>\n",
       "      <td>Y</td>\n",
       "      <td>3.0</td>\n",
       "      <td>627.44</td>\n",
       "      <td>0</td>\n",
       "      <td>Unpossessed</td>\n",
       "      <td>1</td>\n",
       "      <td>Urban</td>\n",
       "      <td>1</td>\n",
       "      <td>300991.24</td>\n",
       "    </tr>\n",
       "    <tr>\n",
       "      <th>3</th>\n",
       "      <td>65</td>\n",
       "      <td>1369.72</td>\n",
       "      <td>High</td>\n",
       "      <td>Rural</td>\n",
       "      <td>97009.18</td>\n",
       "      <td>446.15</td>\n",
       "      <td>N</td>\n",
       "      <td>Y</td>\n",
       "      <td>2.0</td>\n",
       "      <td>833.20</td>\n",
       "      <td>0</td>\n",
       "      <td>Inactive</td>\n",
       "      <td>1</td>\n",
       "      <td>Semi-Urban</td>\n",
       "      <td>0</td>\n",
       "      <td>125612.1</td>\n",
       "    </tr>\n",
       "    <tr>\n",
       "      <th>4</th>\n",
       "      <td>60</td>\n",
       "      <td>1939.23</td>\n",
       "      <td>High</td>\n",
       "      <td>Urban</td>\n",
       "      <td>109980.00</td>\n",
       "      <td>370.10</td>\n",
       "      <td>N</td>\n",
       "      <td>N</td>\n",
       "      <td>NaN</td>\n",
       "      <td>NaN</td>\n",
       "      <td>0</td>\n",
       "      <td>NaN</td>\n",
       "      <td>4</td>\n",
       "      <td>Semi-Urban</td>\n",
       "      <td>1</td>\n",
       "      <td>180908.0</td>\n",
       "    </tr>\n",
       "    <tr>\n",
       "      <th>...</th>\n",
       "      <td>...</td>\n",
       "      <td>...</td>\n",
       "      <td>...</td>\n",
       "      <td>...</td>\n",
       "      <td>...</td>\n",
       "      <td>...</td>\n",
       "      <td>...</td>\n",
       "      <td>...</td>\n",
       "      <td>...</td>\n",
       "      <td>...</td>\n",
       "      <td>...</td>\n",
       "      <td>...</td>\n",
       "      <td>...</td>\n",
       "      <td>...</td>\n",
       "      <td>...</td>\n",
       "      <td>...</td>\n",
       "    </tr>\n",
       "    <tr>\n",
       "      <th>19995</th>\n",
       "      <td>19</td>\n",
       "      <td>1349.60</td>\n",
       "      <td>Low</td>\n",
       "      <td>Semi-Urban</td>\n",
       "      <td>156766.97</td>\n",
       "      <td>500.59</td>\n",
       "      <td>Y</td>\n",
       "      <td>Y</td>\n",
       "      <td>4.0</td>\n",
       "      <td>684.32</td>\n",
       "      <td>0</td>\n",
       "      <td>Inactive</td>\n",
       "      <td>4</td>\n",
       "      <td>Semi-Urban</td>\n",
       "      <td>1</td>\n",
       "      <td>212778.0</td>\n",
       "    </tr>\n",
       "    <tr>\n",
       "      <th>19996</th>\n",
       "      <td>22</td>\n",
       "      <td>2019.78</td>\n",
       "      <td>Low</td>\n",
       "      <td>Urban</td>\n",
       "      <td>47924.80</td>\n",
       "      <td>243.02</td>\n",
       "      <td>Y</td>\n",
       "      <td>Y</td>\n",
       "      <td>NaN</td>\n",
       "      <td>706.34</td>\n",
       "      <td>0</td>\n",
       "      <td>Inactive</td>\n",
       "      <td>4</td>\n",
       "      <td>Urban</td>\n",
       "      <td>1</td>\n",
       "      <td>90816.95</td>\n",
       "    </tr>\n",
       "    <tr>\n",
       "      <th>19997</th>\n",
       "      <td>19</td>\n",
       "      <td>2252.03</td>\n",
       "      <td>Low</td>\n",
       "      <td>Semi-Urban</td>\n",
       "      <td>18629.88</td>\n",
       "      <td>101.88</td>\n",
       "      <td>Y</td>\n",
       "      <td>N</td>\n",
       "      <td>1.0</td>\n",
       "      <td>656.46</td>\n",
       "      <td>0</td>\n",
       "      <td>Inactive</td>\n",
       "      <td>2</td>\n",
       "      <td>Rural</td>\n",
       "      <td>0</td>\n",
       "      <td>21566.27</td>\n",
       "    </tr>\n",
       "    <tr>\n",
       "      <th>19998</th>\n",
       "      <td>21</td>\n",
       "      <td>1845.35</td>\n",
       "      <td>Low</td>\n",
       "      <td>Semi-Urban</td>\n",
       "      <td>95430.73</td>\n",
       "      <td>271.31</td>\n",
       "      <td>N</td>\n",
       "      <td>Y</td>\n",
       "      <td>2.0</td>\n",
       "      <td>865.46</td>\n",
       "      <td>0</td>\n",
       "      <td>Unpossessed</td>\n",
       "      <td>1</td>\n",
       "      <td>Semi-Urban</td>\n",
       "      <td>1</td>\n",
       "      <td>120281.17</td>\n",
       "    </tr>\n",
       "    <tr>\n",
       "      <th>19999</th>\n",
       "      <td>21</td>\n",
       "      <td>5233.16</td>\n",
       "      <td>Low</td>\n",
       "      <td>Semi-Urban</td>\n",
       "      <td>107966.03</td>\n",
       "      <td>983.45</td>\n",
       "      <td>Y</td>\n",
       "      <td>Y</td>\n",
       "      <td>3.0</td>\n",
       "      <td>857.16</td>\n",
       "      <td>1</td>\n",
       "      <td>Active</td>\n",
       "      <td>4</td>\n",
       "      <td>Semi-Urban</td>\n",
       "      <td>0</td>\n",
       "      <td>133425.43</td>\n",
       "    </tr>\n",
       "  </tbody>\n",
       "</table>\n",
       "<p>20000 rows × 16 columns</p>\n",
       "</div>"
      ],
      "text/plain": [
       "       Age  Income (USD) Income Stability    Location  \\\n",
       "0       47       3472.69              Low  Semi-Urban   \n",
       "1       57       1184.84              Low       Rural   \n",
       "2       52       1266.27              Low  Semi-Urban   \n",
       "3       65       1369.72             High       Rural   \n",
       "4       60       1939.23             High       Urban   \n",
       "...    ...           ...              ...         ...   \n",
       "19995   19       1349.60              Low  Semi-Urban   \n",
       "19996   22       2019.78              Low       Urban   \n",
       "19997   19       2252.03              Low  Semi-Urban   \n",
       "19998   21       1845.35              Low  Semi-Urban   \n",
       "19999   21       5233.16              Low  Semi-Urban   \n",
       "\n",
       "       Loan Amount Request (USD)  Current Loan Expenses (USD) Expense Type 1  \\\n",
       "0                      137088.98                       396.72              N   \n",
       "1                      104771.59                       463.76              Y   \n",
       "2                      176684.91                       493.15              N   \n",
       "3                       97009.18                       446.15              N   \n",
       "4                      109980.00                       370.10              N   \n",
       "...                          ...                          ...            ...   \n",
       "19995                  156766.97                       500.59              Y   \n",
       "19996                   47924.80                       243.02              Y   \n",
       "19997                   18629.88                       101.88              Y   \n",
       "19998                   95430.73                       271.31              N   \n",
       "19999                  107966.03                       983.45              Y   \n",
       "\n",
       "      Expense Type 2  Dependents  Credit Score  No. of Defaults  \\\n",
       "0                  N         2.0        799.14                0   \n",
       "1                  Y         2.0        833.31                0   \n",
       "2                  Y         3.0        627.44                0   \n",
       "3                  Y         2.0        833.20                0   \n",
       "4                  N         NaN           NaN                0   \n",
       "...              ...         ...           ...              ...   \n",
       "19995              Y         4.0        684.32                0   \n",
       "19996              Y         NaN        706.34                0   \n",
       "19997              N         1.0        656.46                0   \n",
       "19998              Y         2.0        865.46                0   \n",
       "19999              Y         3.0        857.16                1   \n",
       "\n",
       "      Has Active Credit Card  Property Type Property Location Co-Applicant  \\\n",
       "0                Unpossessed              2             Urban            1   \n",
       "1                Unpossessed              1             Rural            1   \n",
       "2                Unpossessed              1             Urban            1   \n",
       "3                   Inactive              1        Semi-Urban            0   \n",
       "4                        NaN              4        Semi-Urban            1   \n",
       "...                      ...            ...               ...          ...   \n",
       "19995               Inactive              4        Semi-Urban            1   \n",
       "19996               Inactive              4             Urban            1   \n",
       "19997               Inactive              2             Rural            0   \n",
       "19998            Unpossessed              1        Semi-Urban            1   \n",
       "19999                 Active              4        Semi-Urban            0   \n",
       "\n",
       "      Property Price  \n",
       "0           236644.5  \n",
       "1           142357.3  \n",
       "2          300991.24  \n",
       "3           125612.1  \n",
       "4           180908.0  \n",
       "...              ...  \n",
       "19995       212778.0  \n",
       "19996       90816.95  \n",
       "19997       21566.27  \n",
       "19998      120281.17  \n",
       "19999      133425.43  \n",
       "\n",
       "[20000 rows x 16 columns]"
      ]
     },
     "execution_count": 39,
     "metadata": {},
     "output_type": "execute_result"
    }
   ],
   "source": [
    "test"
   ]
  },
  {
   "cell_type": "code",
   "execution_count": 40,
   "metadata": {},
   "outputs": [
    {
     "data": {
      "text/plain": [
       "Age                               0\n",
       "Income (USD)                    750\n",
       "Income Stability                813\n",
       "Location                          0\n",
       "Loan Amount Request (USD)         0\n",
       "Current Loan Expenses (USD)      83\n",
       "Expense Type 1                    0\n",
       "Expense Type 2                    0\n",
       "Dependents                     1142\n",
       "Credit Score                    743\n",
       "No. of Defaults                   0\n",
       "Has Active Credit Card         1076\n",
       "Property Type                     0\n",
       "Property Location               160\n",
       "Co-Applicant                      0\n",
       "Property Price                    0\n",
       "dtype: int64"
      ]
     },
     "execution_count": 40,
     "metadata": {},
     "output_type": "execute_result"
    }
   ],
   "source": [
    "test.isna().sum()"
   ]
  },
  {
   "cell_type": "code",
   "execution_count": 41,
   "metadata": {},
   "outputs": [
    {
     "data": {
      "text/plain": [
       "NaN        750\n",
       "2248.35      3\n",
       "1923.12      3\n",
       "1876.05      3\n",
       "1720.04      3\n",
       "          ... \n",
       "3824.15      1\n",
       "2943.85      1\n",
       "3522.55      1\n",
       "2300.71      1\n",
       "3185.51      1\n",
       "Name: Income (USD), Length: 18694, dtype: int64"
      ]
     },
     "execution_count": 41,
     "metadata": {},
     "output_type": "execute_result"
    }
   ],
   "source": [
    "pd.value_counts(test['Income (USD)'],dropna=False)"
   ]
  },
  {
   "cell_type": "code",
   "execution_count": 42,
   "metadata": {},
   "outputs": [
    {
     "name": "stderr",
     "output_type": "stream",
     "text": [
      "C:\\Users\\hnush\\anaconda3\\lib\\site-packages\\seaborn\\distributions.py:2551: FutureWarning: `distplot` is a deprecated function and will be removed in a future version. Please adapt your code to use either `displot` (a figure-level function with similar flexibility) or `histplot` (an axes-level function for histograms).\n",
      "  warnings.warn(msg, FutureWarning)\n"
     ]
    },
    {
     "data": {
      "text/plain": [
       "<AxesSubplot:xlabel='Income (USD)', ylabel='Density'>"
      ]
     },
     "execution_count": 42,
     "metadata": {},
     "output_type": "execute_result"
    },
    {
     "data": {
      "image/png": "[encoded data removed]",
      "text/plain": [
       "<Figure size 432x288 with 1 Axes>"
      ]
     },
     "metadata": {
      "needs_background": "light"
     },
     "output_type": "display_data"
    }
   ],
   "source": [
    "sns.distplot(test['Income (USD)'])"
   ]
  },
  {
   "cell_type": "code",
   "execution_count": 43,
   "metadata": {},
   "outputs": [],
   "source": [
    "test['Income (USD)']=test['Income (USD)'].fillna(test['Income (USD)'].median())"
   ]
  },
  {
   "cell_type": "code",
   "execution_count": 44,
   "metadata": {},
   "outputs": [
    {
     "data": {
      "text/plain": [
       "Low     17501\n",
       "High     1686\n",
       "NaN       813\n",
       "Name: Income Stability, dtype: int64"
      ]
     },
     "execution_count": 44,
     "metadata": {},
     "output_type": "execute_result"
    }
   ],
   "source": [
    "pd.value_counts(test['Income Stability'],dropna=False)"
   ]
  },
  {
   "cell_type": "code",
   "execution_count": 45,
   "metadata": {},
   "outputs": [],
   "source": [
    "test['Income Stability']=test['Income Stability'].fillna(test['Income Stability'].mode()[0])"
   ]
  },
  {
   "cell_type": "code",
   "execution_count": 46,
   "metadata": {},
   "outputs": [],
   "source": [
    "test['Current Loan Expenses (USD)']=test['Current Loan Expenses (USD)'].fillna(test['Current Loan Expenses (USD)'].median())"
   ]
  },
  {
   "cell_type": "code",
   "execution_count": 47,
   "metadata": {},
   "outputs": [
    {
     "data": {
      "text/plain": [
       "2.0     8951\n",
       "3.0     3874\n",
       "1.0     3843\n",
       "4.0     1915\n",
       "NaN     1142\n",
       "5.0      245\n",
       "6.0       21\n",
       "8.0        4\n",
       "7.0        3\n",
       "10.0       1\n",
       "13.0       1\n",
       "Name: Dependents, dtype: int64"
      ]
     },
     "execution_count": 47,
     "metadata": {},
     "output_type": "execute_result"
    }
   ],
   "source": [
    "pd.value_counts(test['Dependents'],dropna=False)"
   ]
  },
  {
   "cell_type": "code",
   "execution_count": 48,
   "metadata": {},
   "outputs": [],
   "source": [
    "test['Dependents']=test['Dependents'].fillna(method='ffill')"
   ]
  },
  {
   "cell_type": "code",
   "execution_count": 49,
   "metadata": {},
   "outputs": [
    {
     "data": {
      "text/plain": [
       "2.0     9506\n",
       "3.0     4094\n",
       "1.0     4067\n",
       "4.0     2044\n",
       "5.0      257\n",
       "6.0       23\n",
       "8.0        4\n",
       "7.0        3\n",
       "10.0       1\n",
       "13.0       1\n",
       "Name: Dependents, dtype: int64"
      ]
     },
     "execution_count": 49,
     "metadata": {},
     "output_type": "execute_result"
    }
   ],
   "source": [
    "pd.value_counts(test['Dependents'],dropna=False)"
   ]
  },
  {
   "cell_type": "code",
   "execution_count": 50,
   "metadata": {},
   "outputs": [],
   "source": [
    "test['Credit Score']=test['Credit Score'].fillna(test['Credit Score'].median())"
   ]
  },
  {
   "cell_type": "code",
   "execution_count": 51,
   "metadata": {},
   "outputs": [
    {
     "data": {
      "text/plain": [
       "Active         6418\n",
       "Inactive       6376\n",
       "Unpossessed    6130\n",
       "NaN            1076\n",
       "Name: Has Active Credit Card, dtype: int64"
      ]
     },
     "execution_count": 51,
     "metadata": {},
     "output_type": "execute_result"
    }
   ],
   "source": [
    "pd.value_counts(test['Has Active Credit Card'],dropna=False)"
   ]
  },
  {
   "cell_type": "code",
   "execution_count": 52,
   "metadata": {},
   "outputs": [],
   "source": [
    "test['Has Active Credit Card']=test['Has Active Credit Card'].fillna(method='ffill')"
   ]
  },
  {
   "cell_type": "code",
   "execution_count": 53,
   "metadata": {},
   "outputs": [
    {
     "data": {
      "text/plain": [
       "Active         6781\n",
       "Inactive       6757\n",
       "Unpossessed    6462\n",
       "Name: Has Active Credit Card, dtype: int64"
      ]
     },
     "execution_count": 53,
     "metadata": {},
     "output_type": "execute_result"
    }
   ],
   "source": [
    "pd.value_counts(test['Has Active Credit Card'],dropna=False)"
   ]
  },
  {
   "cell_type": "code",
   "execution_count": 54,
   "metadata": {},
   "outputs": [
    {
     "data": {
      "text/plain": [
       "Semi-Urban    6839\n",
       "Rural         6768\n",
       "Urban         6233\n",
       "NaN            160\n",
       "Name: Property Location, dtype: int64"
      ]
     },
     "execution_count": 54,
     "metadata": {},
     "output_type": "execute_result"
    }
   ],
   "source": [
    "pd.value_counts(test['Property Location'],dropna=False)"
   ]
  },
  {
   "cell_type": "code",
   "execution_count": 55,
   "metadata": {},
   "outputs": [],
   "source": [
    "test['Property Location']=test['Property Location'].fillna(test['Property Location'].mode()[0])"
   ]
  },
  {
   "cell_type": "code",
   "execution_count": 56,
   "metadata": {},
   "outputs": [
    {
     "data": {
      "text/plain": [
       "1    17004\n",
       "0     2919\n",
       "?       77\n",
       "Name: Co-Applicant, dtype: int64"
      ]
     },
     "execution_count": 56,
     "metadata": {},
     "output_type": "execute_result"
    }
   ],
   "source": [
    "pd.value_counts(test['Co-Applicant'])"
   ]
  },
  {
   "cell_type": "code",
   "execution_count": 57,
   "metadata": {},
   "outputs": [],
   "source": [
    "test['Co-Applicant']=test['Co-Applicant'].replace(['?'],[np.nan])"
   ]
  },
  {
   "cell_type": "code",
   "execution_count": 58,
   "metadata": {},
   "outputs": [
    {
     "data": {
      "text/plain": [
       "1      17004\n",
       "0       2919\n",
       "NaN       77\n",
       "Name: Co-Applicant, dtype: int64"
      ]
     },
     "execution_count": 58,
     "metadata": {},
     "output_type": "execute_result"
    }
   ],
   "source": [
    "pd.value_counts(test['Co-Applicant'],dropna=False)"
   ]
  },
  {
   "cell_type": "code",
   "execution_count": 59,
   "metadata": {},
   "outputs": [],
   "source": [
    "test['Co-Applicant']=test['Co-Applicant'].fillna(test['Co-Applicant'].mode()[0])"
   ]
  },
  {
   "cell_type": "code",
   "execution_count": 60,
   "metadata": {
    "scrolled": true
   },
   "outputs": [
    {
     "data": {
      "text/plain": [
       "?            168\n",
       "110103.62      2\n",
       "101012.42      2\n",
       "77441.22       2\n",
       "88372.15       2\n",
       "            ... \n",
       "197503.69      1\n",
       "45043.11       1\n",
       "49453.88       1\n",
       "26852.0        1\n",
       "138842.46      1\n",
       "Name: Property Price, Length: 19824, dtype: int64"
      ]
     },
     "execution_count": 60,
     "metadata": {},
     "output_type": "execute_result"
    }
   ],
   "source": [
    "pd.value_counts(test['Property Price'],dropna=False)"
   ]
  },
  {
   "cell_type": "code",
   "execution_count": 61,
   "metadata": {},
   "outputs": [],
   "source": [
    "test['Property Price']=test['Property Price'].replace(['?'],[np.nan])"
   ]
  },
  {
   "cell_type": "code",
   "execution_count": 62,
   "metadata": {},
   "outputs": [],
   "source": [
    "test['Property Price']=test['Property Price'].astype(float)"
   ]
  },
  {
   "cell_type": "code",
   "execution_count": 63,
   "metadata": {},
   "outputs": [
    {
     "name": "stderr",
     "output_type": "stream",
     "text": [
      "C:\\Users\\hnush\\anaconda3\\lib\\site-packages\\seaborn\\distributions.py:2551: FutureWarning: `distplot` is a deprecated function and will be removed in a future version. Please adapt your code to use either `displot` (a figure-level function with similar flexibility) or `histplot` (an axes-level function for histograms).\n",
      "  warnings.warn(msg, FutureWarning)\n"
     ]
    },
    {
     "data": {
      "text/plain": [
       "<AxesSubplot:xlabel='Property Price', ylabel='Density'>"
      ]
     },
     "execution_count": 63,
     "metadata": {},
     "output_type": "execute_result"
    },
    {
     "data": {
      "image/png": "[encoded data removed]",
      "text/plain": [
       "<Figure size 432x288 with 1 Axes>"
      ]
     },
     "metadata": {
      "needs_background": "light"
     },
     "output_type": "display_data"
    }
   ],
   "source": [
    "sns.distplot(test['Property Price'])"
   ]
  },
  {
   "cell_type": "code",
   "execution_count": 64,
   "metadata": {},
   "outputs": [],
   "source": [
    "test['Property Price']=test['Property Price'].fillna(test['Property Price'].median())"
   ]
  },
  {
   "cell_type": "code",
   "execution_count": 65,
   "metadata": {},
   "outputs": [
    {
     "name": "stdout",
     "output_type": "stream",
     "text": [
      "<class 'pandas.core.frame.DataFrame'>\n",
      "RangeIndex: 30000 entries, 0 to 29999\n",
      "Data columns (total 17 columns):\n",
      " #   Column                       Non-Null Count  Dtype  \n",
      "---  ------                       --------------  -----  \n",
      " 0   Age                          30000 non-null  int64  \n",
      " 1   Income (USD)                 30000 non-null  float64\n",
      " 2   Income Stability             30000 non-null  object \n",
      " 3   Location                     30000 non-null  object \n",
      " 4   Loan Amount Request (USD)    30000 non-null  float64\n",
      " 5   Current Loan Expenses (USD)  30000 non-null  float64\n",
      " 6   Expense Type 1               30000 non-null  object \n",
      " 7   Expense Type 2               30000 non-null  object \n",
      " 8   Dependents                   30000 non-null  float64\n",
      " 9   Credit Score                 30000 non-null  float64\n",
      " 10  No. of Defaults              30000 non-null  int64  \n",
      " 11  Has Active Credit Card       30000 non-null  object \n",
      " 12  Property Type                30000 non-null  int64  \n",
      " 13  Property Location            30000 non-null  object \n",
      " 14  Co-Applicant                 30000 non-null  float64\n",
      " 15  Property Price               30000 non-null  float64\n",
      " 16  Loan Sanction Amount (USD)   30000 non-null  float64\n",
      "dtypes: float64(8), int64(3), object(6)\n",
      "memory usage: 3.9+ MB\n"
     ]
    }
   ],
   "source": [
    "train.info()"
   ]
  },
  {
   "cell_type": "code",
   "execution_count": 66,
   "metadata": {},
   "outputs": [
    {
     "name": "stdout",
     "output_type": "stream",
     "text": [
      "Age --> [56 32 65 31 60 43 45 38 18 39 48 61 54 64 41 19 44 24 55 63 23 29 28 49\n",
      " 30 37 51 27 59 62 21 33 58 25 26 50 46 22 36 53 34 40 35 42 57 47 52 20]\n",
      "Income (USD) --> [1933.05 4952.91  988.19 ... 1606.88 2417.71 3068.24]\n",
      "Income Stability --> ['Low' 'High']\n",
      "Location --> ['Semi-Urban' 'Rural' 'Urban']\n",
      "Loan Amount Request (USD) --> [ 72809.58  46837.47  45593.04 ...  81410.08 142524.1  156290.54]\n",
      "Current Loan Expenses (USD) --> [241.08 495.81 171.95 ... 583.11 378.29 693.94]\n",
      "Expense Type 1 --> ['N' 'Y']\n",
      "Expense Type 2 --> ['N' 'Y']\n",
      "Dependents --> [ 3.  1.  2.  4.  5.  8.  6.  7. 10. 14.]\n",
      "Credit Score --> [809.44 780.4  833.15 ... 709.43 869.61 815.44]\n",
      "No. of Defaults --> [0 1]\n",
      "Has Active Credit Card --> ['Unpossessed' 'Active' 'Inactive']\n",
      "Property Type --> [4 2 1 3]\n",
      "Property Location --> ['Rural' 'Urban' 'Semi-Urban']\n",
      "Co-Applicant --> [1. 0.]\n",
      "Property Price --> [119933.46  54791.    72440.58 ... 102108.02 168194.47 194512.6 ]\n",
      "Loan Sanction Amount (USD) --> [ 54607.18  37469.98  36474.43 ...  61057.56  99766.87 117217.9 ]\n"
     ]
    }
   ],
   "source": [
    "for i in train.columns:\n",
    "    print(i,'-->',pd.unique(train[i]))"
   ]
  },
  {
   "cell_type": "code",
   "execution_count": 67,
   "metadata": {},
   "outputs": [],
   "source": [
    "df=pd.DataFrame()\n",
    "for i in train.columns:\n",
    "    if np.dtype(train[i])=='O':\n",
    "        x=pd.get_dummies(train[i],prefix=i+'_',drop_first=True)\n",
    "        df=pd.concat([df,x],axis=1)\n",
    "    else:\n",
    "        df=pd.concat([df,train[i]],axis=1)"
   ]
  },
  {
   "cell_type": "code",
   "execution_count": 68,
   "metadata": {},
   "outputs": [
    {
     "data": {
      "text/html": [
       "<div>\n",
       "<style scoped>\n",
       "    .dataframe tbody tr th:only-of-type {\n",
       "        vertical-align: middle;\n",
       "    }\n",
       "\n",
       "    .dataframe tbody tr th {\n",
       "        vertical-align: top;\n",
       "    }\n",
       "\n",
       "    .dataframe thead th {\n",
       "        text-align: right;\n",
       "    }\n",
       "</style>\n",
       "<table border=\"1\" class=\"dataframe\">\n",
       "  <thead>\n",
       "    <tr style=\"text-align: right;\">\n",
       "      <th></th>\n",
       "      <th>Age</th>\n",
       "      <th>Income (USD)</th>\n",
       "      <th>Income Stability__Low</th>\n",
       "      <th>Location__Semi-Urban</th>\n",
       "      <th>Location__Urban</th>\n",
       "      <th>Loan Amount Request (USD)</th>\n",
       "      <th>Current Loan Expenses (USD)</th>\n",
       "      <th>Expense Type 1__Y</th>\n",
       "      <th>Expense Type 2__Y</th>\n",
       "      <th>Dependents</th>\n",
       "      <th>Credit Score</th>\n",
       "      <th>No. of Defaults</th>\n",
       "      <th>Has Active Credit Card__Inactive</th>\n",
       "      <th>Has Active Credit Card__Unpossessed</th>\n",
       "      <th>Property Type</th>\n",
       "      <th>Property Location__Semi-Urban</th>\n",
       "      <th>Property Location__Urban</th>\n",
       "      <th>Co-Applicant</th>\n",
       "      <th>Property Price</th>\n",
       "      <th>Loan Sanction Amount (USD)</th>\n",
       "    </tr>\n",
       "  </thead>\n",
       "  <tbody>\n",
       "    <tr>\n",
       "      <th>0</th>\n",
       "      <td>56</td>\n",
       "      <td>1933.050</td>\n",
       "      <td>1</td>\n",
       "      <td>1</td>\n",
       "      <td>0</td>\n",
       "      <td>72809.58</td>\n",
       "      <td>241.08</td>\n",
       "      <td>0</td>\n",
       "      <td>0</td>\n",
       "      <td>3.0</td>\n",
       "      <td>809.440000</td>\n",
       "      <td>0</td>\n",
       "      <td>0</td>\n",
       "      <td>1</td>\n",
       "      <td>4</td>\n",
       "      <td>0</td>\n",
       "      <td>0</td>\n",
       "      <td>1.0</td>\n",
       "      <td>119933.46</td>\n",
       "      <td>54607.18</td>\n",
       "    </tr>\n",
       "    <tr>\n",
       "      <th>1</th>\n",
       "      <td>32</td>\n",
       "      <td>4952.910</td>\n",
       "      <td>1</td>\n",
       "      <td>1</td>\n",
       "      <td>0</td>\n",
       "      <td>46837.47</td>\n",
       "      <td>495.81</td>\n",
       "      <td>0</td>\n",
       "      <td>1</td>\n",
       "      <td>1.0</td>\n",
       "      <td>780.400000</td>\n",
       "      <td>0</td>\n",
       "      <td>0</td>\n",
       "      <td>1</td>\n",
       "      <td>2</td>\n",
       "      <td>0</td>\n",
       "      <td>0</td>\n",
       "      <td>1.0</td>\n",
       "      <td>54791.00</td>\n",
       "      <td>37469.98</td>\n",
       "    </tr>\n",
       "    <tr>\n",
       "      <th>2</th>\n",
       "      <td>65</td>\n",
       "      <td>988.190</td>\n",
       "      <td>0</td>\n",
       "      <td>1</td>\n",
       "      <td>0</td>\n",
       "      <td>45593.04</td>\n",
       "      <td>171.95</td>\n",
       "      <td>0</td>\n",
       "      <td>1</td>\n",
       "      <td>1.0</td>\n",
       "      <td>833.150000</td>\n",
       "      <td>0</td>\n",
       "      <td>0</td>\n",
       "      <td>1</td>\n",
       "      <td>2</td>\n",
       "      <td>0</td>\n",
       "      <td>1</td>\n",
       "      <td>0.0</td>\n",
       "      <td>72440.58</td>\n",
       "      <td>36474.43</td>\n",
       "    </tr>\n",
       "    <tr>\n",
       "      <th>3</th>\n",
       "      <td>65</td>\n",
       "      <td>2222.435</td>\n",
       "      <td>0</td>\n",
       "      <td>0</td>\n",
       "      <td>0</td>\n",
       "      <td>80057.92</td>\n",
       "      <td>298.54</td>\n",
       "      <td>0</td>\n",
       "      <td>1</td>\n",
       "      <td>2.0</td>\n",
       "      <td>832.700000</td>\n",
       "      <td>1</td>\n",
       "      <td>0</td>\n",
       "      <td>1</td>\n",
       "      <td>2</td>\n",
       "      <td>1</td>\n",
       "      <td>0</td>\n",
       "      <td>1.0</td>\n",
       "      <td>121441.51</td>\n",
       "      <td>56040.54</td>\n",
       "    </tr>\n",
       "    <tr>\n",
       "      <th>4</th>\n",
       "      <td>31</td>\n",
       "      <td>2614.770</td>\n",
       "      <td>1</td>\n",
       "      <td>1</td>\n",
       "      <td>0</td>\n",
       "      <td>113858.89</td>\n",
       "      <td>491.41</td>\n",
       "      <td>0</td>\n",
       "      <td>1</td>\n",
       "      <td>2.0</td>\n",
       "      <td>745.550000</td>\n",
       "      <td>1</td>\n",
       "      <td>0</td>\n",
       "      <td>0</td>\n",
       "      <td>4</td>\n",
       "      <td>1</td>\n",
       "      <td>0</td>\n",
       "      <td>1.0</td>\n",
       "      <td>208567.91</td>\n",
       "      <td>74008.28</td>\n",
       "    </tr>\n",
       "    <tr>\n",
       "      <th>...</th>\n",
       "      <td>...</td>\n",
       "      <td>...</td>\n",
       "      <td>...</td>\n",
       "      <td>...</td>\n",
       "      <td>...</td>\n",
       "      <td>...</td>\n",
       "      <td>...</td>\n",
       "      <td>...</td>\n",
       "      <td>...</td>\n",
       "      <td>...</td>\n",
       "      <td>...</td>\n",
       "      <td>...</td>\n",
       "      <td>...</td>\n",
       "      <td>...</td>\n",
       "      <td>...</td>\n",
       "      <td>...</td>\n",
       "      <td>...</td>\n",
       "      <td>...</td>\n",
       "      <td>...</td>\n",
       "      <td>...</td>\n",
       "    </tr>\n",
       "    <tr>\n",
       "      <th>29995</th>\n",
       "      <td>38</td>\n",
       "      <td>4969.410</td>\n",
       "      <td>1</td>\n",
       "      <td>0</td>\n",
       "      <td>1</td>\n",
       "      <td>76657.90</td>\n",
       "      <td>722.34</td>\n",
       "      <td>1</td>\n",
       "      <td>1</td>\n",
       "      <td>2.0</td>\n",
       "      <td>869.610000</td>\n",
       "      <td>0</td>\n",
       "      <td>0</td>\n",
       "      <td>1</td>\n",
       "      <td>4</td>\n",
       "      <td>0</td>\n",
       "      <td>1</td>\n",
       "      <td>1.0</td>\n",
       "      <td>111096.56</td>\n",
       "      <td>68992.11</td>\n",
       "    </tr>\n",
       "    <tr>\n",
       "      <th>29996</th>\n",
       "      <td>20</td>\n",
       "      <td>1606.880</td>\n",
       "      <td>1</td>\n",
       "      <td>1</td>\n",
       "      <td>0</td>\n",
       "      <td>66595.14</td>\n",
       "      <td>253.04</td>\n",
       "      <td>0</td>\n",
       "      <td>0</td>\n",
       "      <td>3.0</td>\n",
       "      <td>729.410000</td>\n",
       "      <td>0</td>\n",
       "      <td>1</td>\n",
       "      <td>0</td>\n",
       "      <td>3</td>\n",
       "      <td>0</td>\n",
       "      <td>1</td>\n",
       "      <td>1.0</td>\n",
       "      <td>73453.94</td>\n",
       "      <td>46616.60</td>\n",
       "    </tr>\n",
       "    <tr>\n",
       "      <th>29997</th>\n",
       "      <td>49</td>\n",
       "      <td>2222.435</td>\n",
       "      <td>1</td>\n",
       "      <td>0</td>\n",
       "      <td>1</td>\n",
       "      <td>81410.08</td>\n",
       "      <td>583.11</td>\n",
       "      <td>0</td>\n",
       "      <td>1</td>\n",
       "      <td>2.0</td>\n",
       "      <td>739.885381</td>\n",
       "      <td>0</td>\n",
       "      <td>0</td>\n",
       "      <td>0</td>\n",
       "      <td>1</td>\n",
       "      <td>0</td>\n",
       "      <td>0</td>\n",
       "      <td>1.0</td>\n",
       "      <td>102108.02</td>\n",
       "      <td>61057.56</td>\n",
       "    </tr>\n",
       "    <tr>\n",
       "      <th>29998</th>\n",
       "      <td>38</td>\n",
       "      <td>2417.710</td>\n",
       "      <td>1</td>\n",
       "      <td>1</td>\n",
       "      <td>0</td>\n",
       "      <td>142524.10</td>\n",
       "      <td>378.29</td>\n",
       "      <td>0</td>\n",
       "      <td>1</td>\n",
       "      <td>3.0</td>\n",
       "      <td>677.270000</td>\n",
       "      <td>1</td>\n",
       "      <td>0</td>\n",
       "      <td>1</td>\n",
       "      <td>4</td>\n",
       "      <td>0</td>\n",
       "      <td>1</td>\n",
       "      <td>1.0</td>\n",
       "      <td>168194.47</td>\n",
       "      <td>99766.87</td>\n",
       "    </tr>\n",
       "    <tr>\n",
       "      <th>29999</th>\n",
       "      <td>63</td>\n",
       "      <td>3068.240</td>\n",
       "      <td>0</td>\n",
       "      <td>0</td>\n",
       "      <td>0</td>\n",
       "      <td>156290.54</td>\n",
       "      <td>693.94</td>\n",
       "      <td>0</td>\n",
       "      <td>1</td>\n",
       "      <td>1.0</td>\n",
       "      <td>815.440000</td>\n",
       "      <td>0</td>\n",
       "      <td>0</td>\n",
       "      <td>0</td>\n",
       "      <td>3</td>\n",
       "      <td>0</td>\n",
       "      <td>0</td>\n",
       "      <td>1.0</td>\n",
       "      <td>194512.60</td>\n",
       "      <td>117217.90</td>\n",
       "    </tr>\n",
       "  </tbody>\n",
       "</table>\n",
       "<p>30000 rows × 20 columns</p>\n",
       "</div>"
      ],
      "text/plain": [
       "       Age  Income (USD)  Income Stability__Low  Location__Semi-Urban  \\\n",
       "0       56      1933.050                      1                     1   \n",
       "1       32      4952.910                      1                     1   \n",
       "2       65       988.190                      0                     1   \n",
       "3       65      2222.435                      0                     0   \n",
       "4       31      2614.770                      1                     1   \n",
       "...    ...           ...                    ...                   ...   \n",
       "29995   38      4969.410                      1                     0   \n",
       "29996   20      1606.880                      1                     1   \n",
       "29997   49      2222.435                      1                     0   \n",
       "29998   38      2417.710                      1                     1   \n",
       "29999   63      3068.240                      0                     0   \n",
       "\n",
       "       Location__Urban  Loan Amount Request (USD)  \\\n",
       "0                    0                   72809.58   \n",
       "1                    0                   46837.47   \n",
       "2                    0                   45593.04   \n",
       "3                    0                   80057.92   \n",
       "4                    0                  113858.89   \n",
       "...                ...                        ...   \n",
       "29995                1                   76657.90   \n",
       "29996                0                   66595.14   \n",
       "29997                1                   81410.08   \n",
       "29998                0                  142524.10   \n",
       "29999                0                  156290.54   \n",
       "\n",
       "       Current Loan Expenses (USD)  Expense Type 1__Y  Expense Type 2__Y  \\\n",
       "0                           241.08                  0                  0   \n",
       "1                           495.81                  0                  1   \n",
       "2                           171.95                  0                  1   \n",
       "3                           298.54                  0                  1   \n",
       "4                           491.41                  0                  1   \n",
       "...                            ...                ...                ...   \n",
       "29995                       722.34                  1                  1   \n",
       "29996                       253.04                  0                  0   \n",
       "29997                       583.11                  0                  1   \n",
       "29998                       378.29                  0                  1   \n",
       "29999                       693.94                  0                  1   \n",
       "\n",
       "       Dependents  Credit Score  No. of Defaults  \\\n",
       "0             3.0    809.440000                0   \n",
       "1             1.0    780.400000                0   \n",
       "2             1.0    833.150000                0   \n",
       "3             2.0    832.700000                1   \n",
       "4             2.0    745.550000                1   \n",
       "...           ...           ...              ...   \n",
       "29995         2.0    869.610000                0   \n",
       "29996         3.0    729.410000                0   \n",
       "29997         2.0    739.885381                0   \n",
       "29998         3.0    677.270000                1   \n",
       "29999         1.0    815.440000                0   \n",
       "\n",
       "       Has Active Credit Card__Inactive  Has Active Credit Card__Unpossessed  \\\n",
       "0                                     0                                    1   \n",
       "1                                     0                                    1   \n",
       "2                                     0                                    1   \n",
       "3                                     0                                    1   \n",
       "4                                     0                                    0   \n",
       "...                                 ...                                  ...   \n",
       "29995                                 0                                    1   \n",
       "29996                                 1                                    0   \n",
       "29997                                 0                                    0   \n",
       "29998                                 0                                    1   \n",
       "29999                                 0                                    0   \n",
       "\n",
       "       Property Type  Property Location__Semi-Urban  Property Location__Urban  \\\n",
       "0                  4                              0                         0   \n",
       "1                  2                              0                         0   \n",
       "2                  2                              0                         1   \n",
       "3                  2                              1                         0   \n",
       "4                  4                              1                         0   \n",
       "...              ...                            ...                       ...   \n",
       "29995              4                              0                         1   \n",
       "29996              3                              0                         1   \n",
       "29997              1                              0                         0   \n",
       "29998              4                              0                         1   \n",
       "29999              3                              0                         0   \n",
       "\n",
       "       Co-Applicant  Property Price  Loan Sanction Amount (USD)  \n",
       "0               1.0       119933.46                    54607.18  \n",
       "1               1.0        54791.00                    37469.98  \n",
       "2               0.0        72440.58                    36474.43  \n",
       "3               1.0       121441.51                    56040.54  \n",
       "4               1.0       208567.91                    74008.28  \n",
       "...             ...             ...                         ...  \n",
       "29995           1.0       111096.56                    68992.11  \n",
       "29996           1.0        73453.94                    46616.60  \n",
       "29997           1.0       102108.02                    61057.56  \n",
       "29998           1.0       168194.47                    99766.87  \n",
       "29999           1.0       194512.60                   117217.90  \n",
       "\n",
       "[30000 rows x 20 columns]"
      ]
     },
     "execution_count": 68,
     "metadata": {},
     "output_type": "execute_result"
    }
   ],
   "source": [
    "df"
   ]
  },
  {
   "cell_type": "code",
   "execution_count": 69,
   "metadata": {},
   "outputs": [],
   "source": [
    "#df.to_csv('train_prep.csv',index=False)"
   ]
  },
  {
   "cell_type": "code",
   "execution_count": 74,
   "metadata": {},
   "outputs": [
    {
     "data": {
      "text/plain": [
       "dtype('O')"
      ]
     },
     "execution_count": 74,
     "metadata": {},
     "output_type": "execute_result"
    }
   ],
   "source": [
    "np.dtype(test['Co-Applicant'])"
   ]
  },
  {
   "cell_type": "code",
   "execution_count": 75,
   "metadata": {},
   "outputs": [],
   "source": [
    "test['Co-Applicant']=test['Co-Applicant'].astype(int)"
   ]
  },
  {
   "cell_type": "code",
   "execution_count": 76,
   "metadata": {},
   "outputs": [],
   "source": [
    "df=pd.DataFrame()\n",
    "for i in test.columns:\n",
    "    if np.dtype(test[i])=='O':\n",
    "        x=pd.get_dummies(test[i],prefix=i+'_',drop_first=False)\n",
    "        df=pd.concat([df,x],axis=1)\n",
    "    else:\n",
    "        df=pd.concat([df,test[i]],axis=1)"
   ]
  },
  {
   "cell_type": "code",
   "execution_count": 77,
   "metadata": {},
   "outputs": [],
   "source": [
    "df.to_csv('test_prep.csv',index=False)"
   ]
  }
 ],
 "metadata": {
  "kernelspec": {
   "display_name": "Python 3",
   "language": "python",
   "name": "python3"
  },
  "language_info": {
   "codemirror_mode": {
    "name": "ipython",
    "version": 3
   },
   "file_extension": ".py",
   "mimetype": "text/x-python",
   "name": "python",
   "nbconvert_exporter": "python",
   "pygments_lexer": "ipython3",
   "version": "3.8.5"
  }
 },
 "nbformat": 4,
 "nbformat_minor": 4
}
